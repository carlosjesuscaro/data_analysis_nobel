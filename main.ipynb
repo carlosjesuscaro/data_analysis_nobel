{
 "cells": [
  {
   "metadata": {},
   "cell_type": "markdown",
   "source": [
    "# Jupyter notebook sample"
   ],
   "id": "8a77807f92f26ee"
  },
  {
   "metadata": {
    "ExecuteTime": {
     "end_time": "2024-04-28T22:10:08.821174Z",
     "start_time": "2024-04-28T22:10:08.816558Z"
    }
   },
   "cell_type": "code",
   "source": [
    "# Import libraries\n",
    "import pandas as pd\n",
    "import matplotlib.pyplot as plt\n",
    "import seaborn as sns\n",
    "import numpy as np\n",
    "from thefuzz import process\n",
    "from thefuzz import fuzz\n"
   ],
   "id": "7df9140457caed5e",
   "outputs": [],
   "execution_count": 1
  },
  {
   "metadata": {
    "ExecuteTime": {
     "end_time": "2024-04-28T22:10:12.385125Z",
     "start_time": "2024-04-28T22:10:12.368197Z"
    }
   },
   "cell_type": "code",
   "source": [
    "# Importing the data\n",
    "data = pd.read_csv('data/nobel.csv')\n",
    "\n",
    "# Exploring the data\n",
    "print(f'Data columns: {data.columns} \\n\\n')\n",
    "print(f'Data basic information: {data.info()}\\n\\n')\n",
    "print(f'Data sample rows: {data.head(3)}')"
   ],
   "id": "169f886a263ef915",
   "outputs": [
    {
     "name": "stdout",
     "output_type": "stream",
     "text": [
      "Data columns: Index(['year', 'category', 'prize', 'motivation', 'prize_share', 'laureate_id',\n",
      "       'laureate_type', 'full_name', 'birth_date', 'birth_city',\n",
      "       'birth_country', 'sex', 'organization_name', 'organization_city',\n",
      "       'organization_country', 'death_date', 'death_city', 'death_country'],\n",
      "      dtype='object') \n",
      "\n",
      "\n",
      "<class 'pandas.core.frame.DataFrame'>\n",
      "RangeIndex: 1000 entries, 0 to 999\n",
      "Data columns (total 18 columns):\n",
      " #   Column                Non-Null Count  Dtype \n",
      "---  ------                --------------  ----- \n",
      " 0   year                  1000 non-null   int64 \n",
      " 1   category              1000 non-null   object\n",
      " 2   prize                 1000 non-null   object\n",
      " 3   motivation            912 non-null    object\n",
      " 4   prize_share           1000 non-null   object\n",
      " 5   laureate_id           1000 non-null   int64 \n",
      " 6   laureate_type         1000 non-null   object\n",
      " 7   full_name             1000 non-null   object\n",
      " 8   birth_date            968 non-null    object\n",
      " 9   birth_city            964 non-null    object\n",
      " 10  birth_country         969 non-null    object\n",
      " 11  sex                   970 non-null    object\n",
      " 12  organization_name     736 non-null    object\n",
      " 13  organization_city     735 non-null    object\n",
      " 14  organization_country  735 non-null    object\n",
      " 15  death_date            596 non-null    object\n",
      " 16  death_city            579 non-null    object\n",
      " 17  death_country         585 non-null    object\n",
      "dtypes: int64(2), object(16)\n",
      "memory usage: 140.8+ KB\n",
      "Data basic information: None\n",
      "\n",
      "\n",
      "Data sample rows:    year    category                                           prize  \\\n",
      "0  1901   Chemistry               The Nobel Prize in Chemistry 1901   \n",
      "1  1901  Literature              The Nobel Prize in Literature 1901   \n",
      "2  1901    Medicine  The Nobel Prize in Physiology or Medicine 1901   \n",
      "\n",
      "                                          motivation prize_share  laureate_id  \\\n",
      "0  \"in recognition of the extraordinary services ...         1/1          160   \n",
      "1  \"in special recognition of his poetic composit...         1/1          569   \n",
      "2  \"for his work on serum therapy, especially its...         1/1          293   \n",
      "\n",
      "  laureate_type                     full_name  birth_date         birth_city  \\\n",
      "0    Individual  Jacobus Henricus van 't Hoff  1852-08-30          Rotterdam   \n",
      "1    Individual               Sully Prudhomme  1839-03-16              Paris   \n",
      "2    Individual        Emil Adolf von Behring  1854-03-15  Hansdorf (Lawice)   \n",
      "\n",
      "      birth_country   sex   organization_name organization_city  \\\n",
      "0       Netherlands  Male   Berlin University            Berlin   \n",
      "1            France  Male                 NaN               NaN   \n",
      "2  Prussia (Poland)  Male  Marburg University           Marburg   \n",
      "\n",
      "  organization_country  death_date death_city death_country  \n",
      "0              Germany  1911-03-01     Berlin       Germany  \n",
      "1                  NaN  1907-09-07   Châtenay        France  \n",
      "2              Germany  1917-03-31    Marburg       Germany  \n"
     ]
    }
   ],
   "execution_count": 2
  },
  {
   "metadata": {
    "ExecuteTime": {
     "end_time": "2024-04-28T22:10:16.254154Z",
     "start_time": "2024-04-28T22:10:16.244393Z"
    }
   },
   "cell_type": "code",
   "source": [
    "# Fixing the categories\n",
    "data['year'] = data['year'].astype('category')\n",
    "data['category'] = data['category'].astype('category')\n",
    "data['prize_share'] = data['prize_share'].astype('category')\n",
    "data['laureate_type'] = data['laureate_type'].astype('category')\n",
    "data['sex'] = data['sex'].astype('category')\n",
    "\n",
    "data.info()"
   ],
   "id": "83a0e480736a0e88",
   "outputs": [
    {
     "name": "stdout",
     "output_type": "stream",
     "text": [
      "<class 'pandas.core.frame.DataFrame'>\n",
      "RangeIndex: 1000 entries, 0 to 999\n",
      "Data columns (total 18 columns):\n",
      " #   Column                Non-Null Count  Dtype   \n",
      "---  ------                --------------  -----   \n",
      " 0   year                  1000 non-null   category\n",
      " 1   category              1000 non-null   category\n",
      " 2   prize                 1000 non-null   object  \n",
      " 3   motivation            912 non-null    object  \n",
      " 4   prize_share           1000 non-null   category\n",
      " 5   laureate_id           1000 non-null   int64   \n",
      " 6   laureate_type         1000 non-null   category\n",
      " 7   full_name             1000 non-null   object  \n",
      " 8   birth_date            968 non-null    object  \n",
      " 9   birth_city            964 non-null    object  \n",
      " 10  birth_country         969 non-null    object  \n",
      " 11  sex                   970 non-null    category\n",
      " 12  organization_name     736 non-null    object  \n",
      " 13  organization_city     735 non-null    object  \n",
      " 14  organization_country  735 non-null    object  \n",
      " 15  death_date            596 non-null    object  \n",
      " 16  death_city            579 non-null    object  \n",
      " 17  death_country         585 non-null    object  \n",
      "dtypes: category(5), int64(1), object(12)\n",
      "memory usage: 112.2+ KB\n"
     ]
    }
   ],
   "execution_count": 3
  },
  {
   "metadata": {
    "ExecuteTime": {
     "end_time": "2024-04-28T22:10:21.447903Z",
     "start_time": "2024-04-28T22:10:21.443411Z"
    }
   },
   "cell_type": "code",
   "source": [
    "top_gender = data.groupby('sex')['laureate_id'].agg('count').sort_values(ascending=False).index[0]\n",
    "print(top_gender)\n",
    "\n",
    "top_country = data.groupby('birth_country')['laureate_id'].agg('count').sort_values(ascending=False).index[0]\n",
    "print(top_country)"
   ],
   "id": "c53394fc7fdf0247",
   "outputs": [
    {
     "name": "stdout",
     "output_type": "stream",
     "text": [
      "Male\n",
      "United States of America\n"
     ]
    }
   ],
   "execution_count": 4
  },
  {
   "metadata": {
    "ExecuteTime": {
     "end_time": "2024-04-28T22:26:46.193894Z",
     "start_time": "2024-04-28T22:26:46.139672Z"
    }
   },
   "cell_type": "code",
   "source": [
    "# print(data.columns)\n",
    "\n",
    "# print(data['death_country'].nunique())\n",
    "\n",
    "# print(data['death_country'].unique())\n",
    "\n",
    "fuzz.partial_ratio('Germany', \"West Germany (Germany)\")\n",
    "fuzz.token_set_ratio('Germany', \"West Germany (Germany)\")\n",
    "\n",
    "def fuzz_match(word:str, list_words: list):\n",
    "    list_scores = []\n",
    "    for one_word in list_words:\n",
    "        # list_scores.append(fuzz.ratio(word, one_word))\n",
    "        # list_scores.append(fuzz.partial_ratio(word, one_word))\n",
    "        # list_scores.append(fuzz.token_sort_ratio(word, one_word))\n",
    "        if fuzz.token_set_ratio(word, one_word) >= 80:\n",
    "            list_scores.append(one_word)\n",
    "    return list_scores\n",
    "\n",
    "def fuzzing(words: list):\n",
    "    dict_similarities = {}\n",
    "    words_copy = words.copy()\n",
    "    for word in words:\n",
    "        if str(word) != 'nan':\n",
    "            words_copy.remove(word)\n",
    "            fuzz_outcome = fuzz_match(word, words_copy)\n",
    "            if fuzz_outcome:\n",
    "                dict_similarities[word] = fuzz_outcome\n",
    "        else:\n",
    "            words_copy.remove(word)\n",
    "    return dict_similarities\n",
    "\n",
    "birth_countries = list(set(data['birth_country']))\n",
    "final_outcome = fuzzing(birth_countries)"
   ],
   "id": "200d03aaf258c3f0",
   "outputs": [],
   "execution_count": 9
  },
  {
   "metadata": {
    "ExecuteTime": {
     "end_time": "2024-04-28T22:27:08.995229Z",
     "start_time": "2024-04-28T22:27:08.992600Z"
    }
   },
   "cell_type": "code",
   "source": "print(final_outcome)",
   "id": "4d761f83ebf6a2d5",
   "outputs": [
    {
     "name": "stdout",
     "output_type": "stream",
     "text": [
      "{'Russian Empire (Latvia)': ['Russian Empire (Finland)', 'Russian Empire (Russia)', 'Russian Empire (Azerbaijan)', 'Russian Empire (Poland)', 'Russian Empire (Lithuania)', 'Russian Empire (Ukraine)', 'Russian Empire (Belarus)'], 'Russian Empire (Finland)': ['Russian Empire (Russia)', 'Russian Empire (Poland)', 'Finland'], 'France': ['Germany (France)'], 'Austrian Empire (Czech Republic)': ['Austrian Empire (Italy)', 'Austria-Hungary (Czech Republic)'], 'German-occupied Poland (Poland)': ['Poland'], \"Tibet (People's Republic of China)\": ['China'], 'Russian Empire (Russia)': ['Russian Empire (Azerbaijan)', 'Russian Empire (Poland)', 'Russian Empire (Lithuania)', 'Russian Empire (Ukraine)', 'Prussia (Russia)', 'Russia', 'Russian Empire (Belarus)'], 'Turkey': ['Ottoman Empire (Turkey)'], 'East Friesland (Germany)': ['Germany'], 'USSR (now Russia)': ['Russia'], 'Austria-Hungary (Bosnia and Herzegovina)': ['Bosnia (Bosnia and Herzegovina)', 'Austria-Hungary (Poland)', 'Austria-Hungary (Hungary)', 'Austria', 'Austria-Hungary (Austria)', 'Hungary'], 'Schleswig (Germany)': ['Germany'], 'Union of Soviet Socialist Republics (Belarus)': ['Union of Soviet Socialist Republics (Russia)'], 'Bavaria (Germany)': ['Germany'], 'Lithuania': ['Poland (Lithuania)', 'Russian Empire (Lithuania)'], 'Russian Empire (Azerbaijan)': ['Russian Empire (Poland)', 'Russian Empire (Ukraine)'], 'Austria-Hungary (Poland)': ['Austria-Hungary (Ukraine)', 'Poland', 'Austria-Hungary (Slovenia)', 'Austria-Hungary (Czech Republic)', 'Austria-Hungary (Hungary)', 'Austria', 'Austria-Hungary (Austria)', 'Austria-Hungary (Croatia)', 'Hungary'], 'Prussia (Germany)': ['Germany (Russia)', 'Germany'], 'Austrian Empire (Italy)': ['Italy', 'Austrian Empire (Austria)'], 'Saint Lucia': ['British West Indies (Saint Lucia)'], 'Germany (France)': ['Germany'], 'Ottoman Empire (Republic of Macedonia)': ['Ottoman Empire (Turkey)'], 'Austria-Hungary (Ukraine)': ['Ukraine', 'Austria-Hungary (Hungary)', 'Austria', 'Austria-Hungary (Austria)', 'Austria-Hungary (Croatia)', 'Hungary'], 'Poland': ['Free City of Danzig (Poland)', 'Poland (Lithuania)', 'Russian Empire (Poland)', 'Prussia (Poland)', 'Germany (Poland)', 'Poland (Belarus)', 'Poland (Ukraine)'], 'Austria-Hungary (Slovenia)': ['Austria-Hungary (Hungary)', 'Austria', 'Austria-Hungary (Austria)', 'Austria-Hungary (Croatia)', 'Hungary'], 'Austria-Hungary (Czech Republic)': ['Austria-Hungary (Hungary)', 'Austria', 'Austria-Hungary (Austria)', 'Hungary'], 'Mecklenburg (Germany)': ['Germany'], 'Iran': ['Persia (Iran)'], 'Ukraine': ['Russian Empire (Ukraine)', 'Poland (Ukraine)'], 'Austria-Hungary (Hungary)': ['Austria', 'Austria-Hungary (Austria)', 'Austria-Hungary (Croatia)', 'Hungary'], 'Germany (Russia)': ['Germany', 'Russia'], 'Ireland': ['Northern Ireland', 'Iceland'], 'Tuscany (Italy)': ['Italy'], 'Russian Empire (Poland)': ['Russian Empire (Lithuania)', 'Russian Empire (Ukraine)', 'Prussia (Poland)', 'Russian Empire (Belarus)'], 'India (Pakistan)': ['India', 'Pakistan'], 'British India (India)': ['India', 'British India (Bangladesh)'], 'Austria': ['Austria-Hungary (Austria)', 'Australia', 'Austrian Empire (Austria)', 'Austria-Hungary (Croatia)'], 'Union of Soviet Socialist Republics (Russia)': ['Russia'], 'Germany': ['West Germany (Germany)', 'Hesse-Kassel (Germany)', 'W&uuml;rttemberg (Germany)', 'Germany (Poland)'], 'British Protectorate of Palestine (Israel)': ['British Mandate of Palestine (Israel)'], 'Austria-Hungary (Austria)': ['Austria-Hungary (Croatia)', 'Hungary'], 'India': ['British India (Bangladesh)'], 'Prussia (Russia)': ['Russia'], 'Denmark': ['Faroe Islands (Denmark)'], 'Austria-Hungary (Croatia)': ['Hungary'], 'Hungary': ['Hungary (Slovakia)']}\n"
     ]
    }
   ],
   "execution_count": 10
  }
 ],
 "metadata": {
  "kernelspec": {
   "display_name": "Python 3",
   "language": "python",
   "name": "python3"
  },
  "language_info": {
   "codemirror_mode": {
    "name": "ipython",
    "version": 2
   },
   "file_extension": ".py",
   "mimetype": "text/x-python",
   "name": "python",
   "nbconvert_exporter": "python",
   "pygments_lexer": "ipython2",
   "version": "2.7.6"
  }
 },
 "nbformat": 4,
 "nbformat_minor": 5
}
